{
 "cells": [
  {
   "cell_type": "code",
   "execution_count": 25,
   "metadata": {},
   "outputs": [],
   "source": [
    "import pandas as pd\n",
    "import matplotlib.pyplot as plt"
   ]
  },
  {
   "cell_type": "code",
   "execution_count": 26,
   "metadata": {},
   "outputs": [
    {
     "data": {
      "text/html": [
       "<div>\n",
       "<style scoped>\n",
       "    .dataframe tbody tr th:only-of-type {\n",
       "        vertical-align: middle;\n",
       "    }\n",
       "\n",
       "    .dataframe tbody tr th {\n",
       "        vertical-align: top;\n",
       "    }\n",
       "\n",
       "    .dataframe thead th {\n",
       "        text-align: right;\n",
       "    }\n",
       "</style>\n",
       "<table border=\"1\" class=\"dataframe\">\n",
       "  <thead>\n",
       "    <tr style=\"text-align: right;\">\n",
       "      <th></th>\n",
       "      <th>id</th>\n",
       "      <th>type</th>\n",
       "      <th>avg_length</th>\n",
       "      <th>upper_bound</th>\n",
       "      <th>lower_bound</th>\n",
       "      <th>is_rare</th>\n",
       "    </tr>\n",
       "  </thead>\n",
       "  <tbody>\n",
       "    <tr>\n",
       "      <th>0</th>\n",
       "      <td>0</td>\n",
       "      <td>Aland</td>\n",
       "      <td>25</td>\n",
       "      <td>38</td>\n",
       "      <td>19</td>\n",
       "      <td>1</td>\n",
       "    </tr>\n",
       "    <tr>\n",
       "      <th>1</th>\n",
       "      <td>1</td>\n",
       "      <td>Schleie</td>\n",
       "      <td>25</td>\n",
       "      <td>38</td>\n",
       "      <td>19</td>\n",
       "      <td>0</td>\n",
       "    </tr>\n",
       "    <tr>\n",
       "      <th>2</th>\n",
       "      <td>2</td>\n",
       "      <td>Rotauge</td>\n",
       "      <td>20</td>\n",
       "      <td>30</td>\n",
       "      <td>15</td>\n",
       "      <td>0</td>\n",
       "    </tr>\n",
       "    <tr>\n",
       "      <th>3</th>\n",
       "      <td>3</td>\n",
       "      <td>Rotfeder</td>\n",
       "      <td>20</td>\n",
       "      <td>30</td>\n",
       "      <td>15</td>\n",
       "      <td>0</td>\n",
       "    </tr>\n",
       "    <tr>\n",
       "      <th>4</th>\n",
       "      <td>4</td>\n",
       "      <td>Ukelei</td>\n",
       "      <td>12</td>\n",
       "      <td>18</td>\n",
       "      <td>9</td>\n",
       "      <td>1</td>\n",
       "    </tr>\n",
       "  </tbody>\n",
       "</table>\n",
       "</div>"
      ],
      "text/plain": [
       "   id      type  avg_length  upper_bound  lower_bound  is_rare\n",
       "0   0     Aland          25           38           19        1\n",
       "1   1   Schleie          25           38           19        0\n",
       "2   2   Rotauge          20           30           15        0\n",
       "3   3  Rotfeder          20           30           15        0\n",
       "4   4    Ukelei          12           18            9        1"
      ]
     },
     "execution_count": 26,
     "metadata": {},
     "output_type": "execute_result"
    }
   ],
   "source": [
    "types_of_fish_df = pd.read_csv('data/types_of_fish.csv')\n",
    "types_of_fish_df.head()"
   ]
  },
  {
   "cell_type": "code",
   "execution_count": 27,
   "metadata": {},
   "outputs": [
    {
     "data": {
      "text/html": [
       "<div>\n",
       "<style scoped>\n",
       "    .dataframe tbody tr th:only-of-type {\n",
       "        vertical-align: middle;\n",
       "    }\n",
       "\n",
       "    .dataframe tbody tr th {\n",
       "        vertical-align: top;\n",
       "    }\n",
       "\n",
       "    .dataframe thead th {\n",
       "        text-align: right;\n",
       "    }\n",
       "</style>\n",
       "<table border=\"1\" class=\"dataframe\">\n",
       "  <thead>\n",
       "    <tr style=\"text-align: right;\">\n",
       "      <th></th>\n",
       "      <th>id</th>\n",
       "      <th>username</th>\n",
       "      <th>hashed_password</th>\n",
       "      <th>salt</th>\n",
       "      <th>name</th>\n",
       "      <th>email</th>\n",
       "    </tr>\n",
       "  </thead>\n",
       "  <tbody>\n",
       "    <tr>\n",
       "      <th>0</th>\n",
       "      <td>1</td>\n",
       "      <td>alice</td>\n",
       "      <td>\\xe0460026879f66523c5deed750bc059d70b2f896d902...</td>\n",
       "      <td>\\xf8965e425407e79853816ba6bb05ebb0</td>\n",
       "      <td>NaN</td>\n",
       "      <td>NaN</td>\n",
       "    </tr>\n",
       "    <tr>\n",
       "      <th>1</th>\n",
       "      <td>2</td>\n",
       "      <td>Marvin</td>\n",
       "      <td>\\x373414315838ffad43983814655cf59c7e17b33f19b4...</td>\n",
       "      <td>\\xbf53d48f795c4eacfbf2a1b0aafa8aab</td>\n",
       "      <td>Marvin</td>\n",
       "      <td>marvin.bathke@gmx.de</td>\n",
       "    </tr>\n",
       "    <tr>\n",
       "      <th>2</th>\n",
       "      <td>3</td>\n",
       "      <td>dennisde</td>\n",
       "      <td>\\x0daadf204f89c89416198643de321e7f32b8f210932f...</td>\n",
       "      <td>\\x74e3474d31291fb5b38442b9c0b9a618</td>\n",
       "      <td>Dennis</td>\n",
       "      <td>dennisdeutsch@gmx.net</td>\n",
       "    </tr>\n",
       "    <tr>\n",
       "      <th>3</th>\n",
       "      <td>4</td>\n",
       "      <td>AlxDeeee</td>\n",
       "      <td>\\x8580c4ac6b00786b88d477654c3bde6c25535ccef643...</td>\n",
       "      <td>\\x3dfffae11dba983f930f5d656352c488</td>\n",
       "      <td>Alex</td>\n",
       "      <td>alex.deutsch@gmx.net</td>\n",
       "    </tr>\n",
       "    <tr>\n",
       "      <th>4</th>\n",
       "      <td>5</td>\n",
       "      <td>valeride</td>\n",
       "      <td>\\x586ff0fffef7127d15338628d6cd8c8319acfb9ab2bf...</td>\n",
       "      <td>\\xd25c24858f4eb3eb4226e1266bbb1708</td>\n",
       "      <td>Valeri</td>\n",
       "      <td>valerideutsch969@web.de</td>\n",
       "    </tr>\n",
       "  </tbody>\n",
       "</table>\n",
       "</div>"
      ],
      "text/plain": [
       "   id  username                                    hashed_password  \\\n",
       "0   1     alice  \\xe0460026879f66523c5deed750bc059d70b2f896d902...   \n",
       "1   2    Marvin  \\x373414315838ffad43983814655cf59c7e17b33f19b4...   \n",
       "2   3  dennisde  \\x0daadf204f89c89416198643de321e7f32b8f210932f...   \n",
       "3   4  AlxDeeee  \\x8580c4ac6b00786b88d477654c3bde6c25535ccef643...   \n",
       "4   5  valeride  \\x586ff0fffef7127d15338628d6cd8c8319acfb9ab2bf...   \n",
       "\n",
       "                                 salt    name                    email  \n",
       "0  \\xf8965e425407e79853816ba6bb05ebb0     NaN                      NaN  \n",
       "1  \\xbf53d48f795c4eacfbf2a1b0aafa8aab  Marvin     marvin.bathke@gmx.de  \n",
       "2  \\x74e3474d31291fb5b38442b9c0b9a618  Dennis    dennisdeutsch@gmx.net  \n",
       "3  \\x3dfffae11dba983f930f5d656352c488    Alex     alex.deutsch@gmx.net  \n",
       "4  \\xd25c24858f4eb3eb4226e1266bbb1708  Valeri  valerideutsch969@web.de  "
      ]
     },
     "execution_count": 27,
     "metadata": {},
     "output_type": "execute_result"
    }
   ],
   "source": [
    "users_df = pd.read_csv('data/users.csv')\n",
    "users_df.head()"
   ]
  },
  {
   "cell_type": "code",
   "execution_count": 28,
   "metadata": {},
   "outputs": [
    {
     "data": {
      "text/html": [
       "<div>\n",
       "<style scoped>\n",
       "    .dataframe tbody tr th:only-of-type {\n",
       "        vertical-align: middle;\n",
       "    }\n",
       "\n",
       "    .dataframe tbody tr th {\n",
       "        vertical-align: top;\n",
       "    }\n",
       "\n",
       "    .dataframe thead th {\n",
       "        text-align: right;\n",
       "    }\n",
       "</style>\n",
       "<table border=\"1\" class=\"dataframe\">\n",
       "  <thead>\n",
       "    <tr style=\"text-align: right;\">\n",
       "      <th></th>\n",
       "      <th>id</th>\n",
       "      <th>owner_id</th>\n",
       "      <th>fish_type_id</th>\n",
       "      <th>length</th>\n",
       "      <th>points</th>\n",
       "      <th>date</th>\n",
       "    </tr>\n",
       "  </thead>\n",
       "  <tbody>\n",
       "    <tr>\n",
       "      <th>0</th>\n",
       "      <td>1</td>\n",
       "      <td>3</td>\n",
       "      <td>14</td>\n",
       "      <td>18</td>\n",
       "      <td>18.0</td>\n",
       "      <td>2024-03-02T11:57:58.817Z</td>\n",
       "    </tr>\n",
       "    <tr>\n",
       "      <th>1</th>\n",
       "      <td>2</td>\n",
       "      <td>3</td>\n",
       "      <td>14</td>\n",
       "      <td>18</td>\n",
       "      <td>18.0</td>\n",
       "      <td>2024-03-02T11:58:03.529Z</td>\n",
       "    </tr>\n",
       "    <tr>\n",
       "      <th>2</th>\n",
       "      <td>3</td>\n",
       "      <td>3</td>\n",
       "      <td>14</td>\n",
       "      <td>14</td>\n",
       "      <td>7.0</td>\n",
       "      <td>2024-03-02T12:42:16.352Z</td>\n",
       "    </tr>\n",
       "    <tr>\n",
       "      <th>3</th>\n",
       "      <td>4</td>\n",
       "      <td>3</td>\n",
       "      <td>14</td>\n",
       "      <td>12</td>\n",
       "      <td>6.0</td>\n",
       "      <td>2024-03-02T12:42:20.642Z</td>\n",
       "    </tr>\n",
       "    <tr>\n",
       "      <th>4</th>\n",
       "      <td>5</td>\n",
       "      <td>3</td>\n",
       "      <td>14</td>\n",
       "      <td>12</td>\n",
       "      <td>6.0</td>\n",
       "      <td>2024-03-02T12:42:26.218Z</td>\n",
       "    </tr>\n",
       "  </tbody>\n",
       "</table>\n",
       "</div>"
      ],
      "text/plain": [
       "   id  owner_id  fish_type_id  length  points                      date\n",
       "0   1         3            14      18    18.0  2024-03-02T11:57:58.817Z\n",
       "1   2         3            14      18    18.0  2024-03-02T11:58:03.529Z\n",
       "2   3         3            14      14     7.0  2024-03-02T12:42:16.352Z\n",
       "3   4         3            14      12     6.0  2024-03-02T12:42:20.642Z\n",
       "4   5         3            14      12     6.0  2024-03-02T12:42:26.218Z"
      ]
     },
     "execution_count": 28,
     "metadata": {},
     "output_type": "execute_result"
    }
   ],
   "source": [
    "scoreboard_df = pd.read_csv('data/scoreboard.csv')\n",
    "scoreboard_df.head()"
   ]
  },
  {
   "cell_type": "code",
   "execution_count": 29,
   "metadata": {},
   "outputs": [
    {
     "data": {
      "text/html": [
       "<div>\n",
       "<style scoped>\n",
       "    .dataframe tbody tr th:only-of-type {\n",
       "        vertical-align: middle;\n",
       "    }\n",
       "\n",
       "    .dataframe tbody tr th {\n",
       "        vertical-align: top;\n",
       "    }\n",
       "\n",
       "    .dataframe thead th {\n",
       "        text-align: right;\n",
       "    }\n",
       "</style>\n",
       "<table border=\"1\" class=\"dataframe\">\n",
       "  <thead>\n",
       "    <tr style=\"text-align: right;\">\n",
       "      <th></th>\n",
       "      <th>length</th>\n",
       "      <th>points</th>\n",
       "      <th>date</th>\n",
       "      <th>name</th>\n",
       "      <th>type</th>\n",
       "      <th>avg_length</th>\n",
       "      <th>upper_bound</th>\n",
       "      <th>lower_bound</th>\n",
       "      <th>is_rare</th>\n",
       "    </tr>\n",
       "  </thead>\n",
       "  <tbody>\n",
       "    <tr>\n",
       "      <th>0</th>\n",
       "      <td>18</td>\n",
       "      <td>18.0</td>\n",
       "      <td>2024-03-02T11:57:58.817Z</td>\n",
       "      <td>Dennis</td>\n",
       "      <td>Zwergwels</td>\n",
       "      <td>15</td>\n",
       "      <td>23</td>\n",
       "      <td>11</td>\n",
       "      <td>0</td>\n",
       "    </tr>\n",
       "    <tr>\n",
       "      <th>1</th>\n",
       "      <td>18</td>\n",
       "      <td>18.0</td>\n",
       "      <td>2024-03-02T11:58:03.529Z</td>\n",
       "      <td>Dennis</td>\n",
       "      <td>Zwergwels</td>\n",
       "      <td>15</td>\n",
       "      <td>23</td>\n",
       "      <td>11</td>\n",
       "      <td>0</td>\n",
       "    </tr>\n",
       "    <tr>\n",
       "      <th>2</th>\n",
       "      <td>14</td>\n",
       "      <td>7.0</td>\n",
       "      <td>2024-03-02T12:42:16.352Z</td>\n",
       "      <td>Dennis</td>\n",
       "      <td>Zwergwels</td>\n",
       "      <td>15</td>\n",
       "      <td>23</td>\n",
       "      <td>11</td>\n",
       "      <td>0</td>\n",
       "    </tr>\n",
       "    <tr>\n",
       "      <th>3</th>\n",
       "      <td>12</td>\n",
       "      <td>6.0</td>\n",
       "      <td>2024-03-02T12:42:20.642Z</td>\n",
       "      <td>Dennis</td>\n",
       "      <td>Zwergwels</td>\n",
       "      <td>15</td>\n",
       "      <td>23</td>\n",
       "      <td>11</td>\n",
       "      <td>0</td>\n",
       "    </tr>\n",
       "    <tr>\n",
       "      <th>4</th>\n",
       "      <td>12</td>\n",
       "      <td>6.0</td>\n",
       "      <td>2024-03-02T12:42:26.218Z</td>\n",
       "      <td>Dennis</td>\n",
       "      <td>Zwergwels</td>\n",
       "      <td>15</td>\n",
       "      <td>23</td>\n",
       "      <td>11</td>\n",
       "      <td>0</td>\n",
       "    </tr>\n",
       "  </tbody>\n",
       "</table>\n",
       "</div>"
      ],
      "text/plain": [
       "   length  points                      date    name       type  avg_length  \\\n",
       "0      18    18.0  2024-03-02T11:57:58.817Z  Dennis  Zwergwels          15   \n",
       "1      18    18.0  2024-03-02T11:58:03.529Z  Dennis  Zwergwels          15   \n",
       "2      14     7.0  2024-03-02T12:42:16.352Z  Dennis  Zwergwels          15   \n",
       "3      12     6.0  2024-03-02T12:42:20.642Z  Dennis  Zwergwels          15   \n",
       "4      12     6.0  2024-03-02T12:42:26.218Z  Dennis  Zwergwels          15   \n",
       "\n",
       "   upper_bound  lower_bound  is_rare  \n",
       "0           23           11        0  \n",
       "1           23           11        0  \n",
       "2           23           11        0  \n",
       "3           23           11        0  \n",
       "4           23           11        0  "
      ]
     },
     "execution_count": 29,
     "metadata": {},
     "output_type": "execute_result"
    }
   ],
   "source": [
    "merged_df = pd.merge(scoreboard_df, users_df, left_on='owner_id', right_on='id')\n",
    "merged_df = pd.merge(merged_df, types_of_fish_df, left_on='fish_type_id', right_on='id')\n",
    "#drop all columns execpt id_x, name, type, length, points and data\n",
    "merged_df = merged_df[[  'length', 'points', 'date', 'name',  'type',\n",
    "       'avg_length', 'upper_bound', 'lower_bound', 'is_rare']]\n",
    "merged_df.head()"
   ]
  },
  {
   "cell_type": "code",
   "execution_count": 30,
   "metadata": {},
   "outputs": [
    {
     "data": {
      "text/html": [
       "<div>\n",
       "<style scoped>\n",
       "    .dataframe tbody tr th:only-of-type {\n",
       "        vertical-align: middle;\n",
       "    }\n",
       "\n",
       "    .dataframe tbody tr th {\n",
       "        vertical-align: top;\n",
       "    }\n",
       "\n",
       "    .dataframe thead th {\n",
       "        text-align: right;\n",
       "    }\n",
       "</style>\n",
       "<table border=\"1\" class=\"dataframe\">\n",
       "  <thead>\n",
       "    <tr style=\"text-align: right;\">\n",
       "      <th></th>\n",
       "      <th>length</th>\n",
       "      <th>points</th>\n",
       "      <th>date</th>\n",
       "      <th>name</th>\n",
       "      <th>type</th>\n",
       "      <th>avg_length</th>\n",
       "      <th>upper_bound</th>\n",
       "      <th>lower_bound</th>\n",
       "      <th>is_rare</th>\n",
       "    </tr>\n",
       "  </thead>\n",
       "  <tbody>\n",
       "    <tr>\n",
       "      <th>0</th>\n",
       "      <td>18</td>\n",
       "      <td>18.0</td>\n",
       "      <td>02.03.2024</td>\n",
       "      <td>Dennis</td>\n",
       "      <td>Zwergwels</td>\n",
       "      <td>15</td>\n",
       "      <td>23</td>\n",
       "      <td>11</td>\n",
       "      <td>0</td>\n",
       "    </tr>\n",
       "    <tr>\n",
       "      <th>1</th>\n",
       "      <td>18</td>\n",
       "      <td>18.0</td>\n",
       "      <td>02.03.2024</td>\n",
       "      <td>Dennis</td>\n",
       "      <td>Zwergwels</td>\n",
       "      <td>15</td>\n",
       "      <td>23</td>\n",
       "      <td>11</td>\n",
       "      <td>0</td>\n",
       "    </tr>\n",
       "    <tr>\n",
       "      <th>2</th>\n",
       "      <td>14</td>\n",
       "      <td>7.0</td>\n",
       "      <td>02.03.2024</td>\n",
       "      <td>Dennis</td>\n",
       "      <td>Zwergwels</td>\n",
       "      <td>15</td>\n",
       "      <td>23</td>\n",
       "      <td>11</td>\n",
       "      <td>0</td>\n",
       "    </tr>\n",
       "    <tr>\n",
       "      <th>3</th>\n",
       "      <td>12</td>\n",
       "      <td>6.0</td>\n",
       "      <td>02.03.2024</td>\n",
       "      <td>Dennis</td>\n",
       "      <td>Zwergwels</td>\n",
       "      <td>15</td>\n",
       "      <td>23</td>\n",
       "      <td>11</td>\n",
       "      <td>0</td>\n",
       "    </tr>\n",
       "    <tr>\n",
       "      <th>4</th>\n",
       "      <td>12</td>\n",
       "      <td>6.0</td>\n",
       "      <td>02.03.2024</td>\n",
       "      <td>Dennis</td>\n",
       "      <td>Zwergwels</td>\n",
       "      <td>15</td>\n",
       "      <td>23</td>\n",
       "      <td>11</td>\n",
       "      <td>0</td>\n",
       "    </tr>\n",
       "  </tbody>\n",
       "</table>\n",
       "</div>"
      ],
      "text/plain": [
       "   length  points        date    name       type  avg_length  upper_bound  \\\n",
       "0      18    18.0  02.03.2024  Dennis  Zwergwels          15           23   \n",
       "1      18    18.0  02.03.2024  Dennis  Zwergwels          15           23   \n",
       "2      14     7.0  02.03.2024  Dennis  Zwergwels          15           23   \n",
       "3      12     6.0  02.03.2024  Dennis  Zwergwels          15           23   \n",
       "4      12     6.0  02.03.2024  Dennis  Zwergwels          15           23   \n",
       "\n",
       "   lower_bound  is_rare  \n",
       "0           11        0  \n",
       "1           11        0  \n",
       "2           11        0  \n",
       "3           11        0  \n",
       "4           11        0  "
      ]
     },
     "execution_count": 30,
     "metadata": {},
     "output_type": "execute_result"
    }
   ],
   "source": [
    "#format date column to DD.MM.YYYY\n",
    "merged_df['date'] = pd.to_datetime(merged_df['date']).dt.strftime('%d.%m.%Y')\n",
    "df = merged_df\n",
    "df.head()"
   ]
  },
  {
   "cell_type": "markdown",
   "metadata": {},
   "source": [
    "# Plotting the data"
   ]
  },
  {
   "cell_type": "markdown",
   "metadata": {},
   "source": [
    "##  Plot for users"
   ]
  },
  {
   "cell_type": "code",
   "execution_count": 31,
   "metadata": {},
   "outputs": [
    {
     "data": {
      "image/png": "[encoded data removed]",
      "text/plain": [
       "<Figure size 1000x600 with 1 Axes>"
      ]
     },
     "metadata": {},
     "output_type": "display_data"
    }
   ],
   "source": [
    "# 1. Definiere eine Farbe für jeden Benutzer\n",
    "user_colors = {\n",
    "    'Alex':   '#1f77b4',  # Blau\n",
    "    'Dennis': '#ff7f0e',  # Orange\n",
    "    'Marvin': '#2ca02c',  # Grün\n",
    "    'Valeri': '#d62728',  # Rot\n",
    "}\n",
    "\n",
    "# 2. Aggregiere und sortiere die Daten nach Punkten in absteigender Reihenfolge\n",
    "agg_df = df.groupby('name', as_index=False)['points'].sum()\n",
    "agg_df = agg_df.sort_values(by='points', ascending=False)\n",
    "\n",
    "# 3. Erstelle eine Liste von Farben basierend auf der sortierten DataFrame\n",
    "colors = agg_df['name'].map(user_colors).fillna('#777777')  # Standardfarbe Grau, falls Benutzer nicht definiert\n",
    "\n",
    "# 4. Initialisiere das Diagramm\n",
    "fig, ax = plt.subplots(figsize=(10, 6))\n",
    "\n",
    "# 5. Erstelle das Balkendiagramm mit den definierten Farben\n",
    "bars = ax.bar(agg_df['name'], agg_df['points'], color=colors, edgecolor='black')\n",
    "\n",
    "# 6. Füge Datenbeschriftungen oberhalb der Balken hinzu\n",
    "for bar in bars:\n",
    "    height = bar.get_height()\n",
    "    ax.annotate(f'{height}',\n",
    "                xy=(bar.get_x() + bar.get_width() / 2, height),\n",
    "                xytext=(0, 3),  # 3 Punkte vertikale Verschiebung\n",
    "                textcoords=\"offset points\",\n",
    "                ha='center', va='bottom', fontsize=10, fontweight='bold')\n",
    "\n",
    "# 7. Setze Titel und Achsenbeschriftungen auf Deutsch\n",
    "ax.set_title('Gesamtpunkte pro Teilnehmer', fontsize=16, fontweight='bold')\n",
    "ax.set_xlabel('Teilnehmer', fontsize=14)\n",
    "ax.set_ylabel('Gesamtpunkte', fontsize=14)\n",
    "\n",
    "# 8. Passe die y-Achse an, um ganze Zahlen darzustellen, falls Punkte ganze Zahlen sind\n",
    "ax.yaxis.set_major_locator(plt.MaxNLocator(integer=True))\n",
    "\n",
    "# 9. Füge Gitternetzlinien für bessere Lesbarkeit hinzu\n",
    "ax.yaxis.grid(True, linestyle='--', which='major', color='grey', alpha=0.5)\n",
    "\n",
    "# 10. Entferne die oberen und rechten Rahmen für ein saubereres Aussehen\n",
    "ax.spines['top'].set_visible(False)\n",
    "ax.spines['right'].set_visible(False)\n",
    "\n",
    "# 11. Passe das Layout an, um das Abschneiden von Labels zu verhindern\n",
    "plt.tight_layout()\n",
    "\n",
    "# 12. Zeige das Diagramm an\n",
    "plt.show()"
   ]
  },
  {
   "cell_type": "markdown",
   "metadata": {},
   "source": [
    "## Plot for fishes"
   ]
  },
  {
   "cell_type": "code",
   "execution_count": 32,
   "metadata": {},
   "outputs": [
    {
     "data": {
      "application/vnd.plotly.v1+json": {
       "config": {
        "plotlyServerURL": "https://plot.ly"
       },
       "data": [
        {
         "customdata": [
          [
           62
          ],
          [
           667.5
          ],
          [
           21
          ],
          [
           176
          ],
          [
           71
          ],
          [
           93
          ],
          [
           11.5
          ],
          [
           47.5
          ],
          [
           8
          ],
          [
           90
          ],
          [
           246
          ]
         ],
         "hovertemplate": "<b>%{hovertext}</b><br><br>Benutzer=%{x}<br>Fischart=%{y}<br>Anzahl der Punkte=%{customdata[0]}<extra></extra>",
         "hovertext": [
          "Alex",
          "Alex",
          "Alex",
          "Alex",
          "Alex",
          "Alex",
          "Alex",
          "Alex",
          "Alex",
          "Alex",
          "Alex"
         ],
         "legendgroup": "Alex",
         "marker": {
          "color": "#1f77b4",
          "size": [
           62,
           667.5,
           21,
           176,
           71,
           93,
           11.5,
           47.5,
           8,
           90,
           246
          ],
          "sizemode": "area",
          "sizeref": 5.27375,
          "symbol": "circle"
         },
         "mode": "markers",
         "name": "Alex",
         "orientation": "v",
         "showlegend": true,
         "type": "scatter",
         "x": [
          "Alex",
          "Alex",
          "Alex",
          "Alex",
          "Alex",
          "Alex",
          "Alex",
          "Alex",
          "Alex",
          "Alex",
          "Alex"
         ],
         "xaxis": "x",
         "y": [
          "Aal",
          "Brasse",
          "Giebel",
          "Guester",
          "Hecht",
          "Karpfen",
          "Kaulbarsch",
          "Rotauge",
          "Rotfeder",
          "Zander",
          "Zwergwels"
         ],
         "yaxis": "y"
        },
        {
         "customdata": [
          [
           52
          ],
          [
           2109.5
          ],
          [
           384.5
          ],
          [
           79.5
          ],
          [
           9
          ],
          [
           150.5
          ],
          [
           494
          ]
         ],
         "hovertemplate": "<b>%{hovertext}</b><br><br>Benutzer=%{x}<br>Fischart=%{y}<br>Anzahl der Punkte=%{customdata[0]}<extra></extra>",
         "hovertext": [
          "Dennis",
          "Dennis",
          "Dennis",
          "Dennis",
          "Dennis",
          "Dennis",
          "Dennis"
         ],
         "legendgroup": "Dennis",
         "marker": {
          "color": "#ff7f0e",
          "size": [
           52,
           2109.5,
           384.5,
           79.5,
           9,
           150.5,
           494
          ],
          "sizemode": "area",
          "sizeref": 5.27375,
          "symbol": "circle"
         },
         "mode": "markers",
         "name": "Dennis",
         "orientation": "v",
         "showlegend": true,
         "type": "scatter",
         "x": [
          "Dennis",
          "Dennis",
          "Dennis",
          "Dennis",
          "Dennis",
          "Dennis",
          "Dennis"
         ],
         "xaxis": "x",
         "y": [
          "Aal",
          "Brasse",
          "Guester",
          "Karpfen",
          "Rotauge",
          "Rotfeder",
          "Zwergwels"
         ],
         "yaxis": "y"
        },
        {
         "customdata": [
          [
           0
          ],
          [
           31
          ],
          [
           0
          ],
          [
           29
          ],
          [
           135
          ],
          [
           15
          ],
          [
           79.5
          ],
          [
           121.5
          ],
          [
           119.5
          ]
         ],
         "hovertemplate": "<b>%{hovertext}</b><br><br>Benutzer=%{x}<br>Fischart=%{y}<br>Anzahl der Punkte=%{customdata[0]}<extra></extra>",
         "hovertext": [
          "Marvin",
          "Marvin",
          "Marvin",
          "Marvin",
          "Marvin",
          "Marvin",
          "Marvin",
          "Marvin",
          "Marvin"
         ],
         "legendgroup": "Marvin",
         "marker": {
          "color": "#2ca02c",
          "size": [
           0,
           31,
           0,
           29,
           135,
           15,
           79.5,
           121.5,
           119.5
          ],
          "sizemode": "area",
          "sizeref": 5.27375,
          "symbol": "circle"
         },
         "mode": "markers",
         "name": "Marvin",
         "orientation": "v",
         "showlegend": true,
         "type": "scatter",
         "x": [
          "Marvin",
          "Marvin",
          "Marvin",
          "Marvin",
          "Marvin",
          "Marvin",
          "Marvin",
          "Marvin",
          "Marvin"
         ],
         "xaxis": "x",
         "y": [
          "Aal",
          "Brasse",
          "Flussbarsch",
          "Guester",
          "Karpfen",
          "Kaulbarsch",
          "Rotfeder",
          "Zander",
          "Zwergwels"
         ],
         "yaxis": "y"
        },
        {
         "customdata": [
          [
           419.5
          ],
          [
           57.5
          ],
          [
           97
          ],
          [
           94.5
          ]
         ],
         "hovertemplate": "<b>%{hovertext}</b><br><br>Benutzer=%{x}<br>Fischart=%{y}<br>Anzahl der Punkte=%{customdata[0]}<extra></extra>",
         "hovertext": [
          "Valeri",
          "Valeri",
          "Valeri",
          "Valeri"
         ],
         "legendgroup": "Valeri",
         "marker": {
          "color": "#d62728",
          "size": [
           419.5,
           57.5,
           97,
           94.5
          ],
          "sizemode": "area",
          "sizeref": 5.27375,
          "symbol": "circle"
         },
         "mode": "markers",
         "name": "Valeri",
         "orientation": "v",
         "showlegend": true,
         "type": "scatter",
         "x": [
          "Valeri",
          "Valeri",
          "Valeri",
          "Valeri"
         ],
         "xaxis": "x",
         "y": [
          "Brasse",
          "Guester",
          "Rotfeder",
          "Zwergwels"
         ],
         "yaxis": "y"
        }
       ],
       "layout": {
        "legend": {
         "itemsizing": "constant",
         "title": {
          "text": "Teilnehmer"
         },
         "tracegroupgap": 0
        },
        "template": {
         "data": {
          "bar": [
           {
            "error_x": {
             "color": "#2a3f5f"
            },
            "error_y": {
             "color": "#2a3f5f"
            },
            "marker": {
             "line": {
              "color": "#E5ECF6",
              "width": 0.5
             },
             "pattern": {
              "fillmode": "overlay",
              "size": 10,
              "solidity": 0.2
             }
            },
            "type": "bar"
           }
          ],
          "barpolar": [
           {
            "marker": {
             "line": {
              "color": "#E5ECF6",
              "width": 0.5
             },
             "pattern": {
              "fillmode": "overlay",
              "size": 10,
              "solidity": 0.2
             }
            },
            "type": "barpolar"
           }
          ],
          "carpet": [
           {
            "aaxis": {
             "endlinecolor": "#2a3f5f",
             "gridcolor": "white",
             "linecolor": "white",
             "minorgridcolor": "white",
             "startlinecolor": "#2a3f5f"
            },
            "baxis": {
             "endlinecolor": "#2a3f5f",
             "gridcolor": "white",
             "linecolor": "white",
             "minorgridcolor": "white",
             "startlinecolor": "#2a3f5f"
            },
            "type": "carpet"
           }
          ],
          "choropleth": [
           {
            "colorbar": {
             "outlinewidth": 0,
             "ticks": ""
            },
            "type": "choropleth"
           }
          ],
          "contour": [
           {
            "colorbar": {
             "outlinewidth": 0,
             "ticks": ""
            },
            "colorscale": [
             [
              0,
              "#0d0887"
             ],
             [
              0.1111111111111111,
              "#46039f"
             ],
             [
              0.2222222222222222,
              "#7201a8"
             ],
             [
              0.3333333333333333,
              "#9c179e"
             ],
             [
              0.4444444444444444,
              "#bd3786"
             ],
             [
              0.5555555555555556,
              "#d8576b"
             ],
             [
              0.6666666666666666,
              "#ed7953"
             ],
             [
              0.7777777777777778,
              "#fb9f3a"
             ],
             [
              0.8888888888888888,
              "#fdca26"
             ],
             [
              1,
              "#f0f921"
             ]
            ],
            "type": "contour"
           }
          ],
          "contourcarpet": [
           {
            "colorbar": {
             "outlinewidth": 0,
             "ticks": ""
            },
            "type": "contourcarpet"
           }
          ],
          "heatmap": [
           {
            "colorbar": {
             "outlinewidth": 0,
             "ticks": ""
            },
            "colorscale": [
             [
              0,
              "#0d0887"
             ],
             [
              0.1111111111111111,
              "#46039f"
             ],
             [
              0.2222222222222222,
              "#7201a8"
             ],
             [
              0.3333333333333333,
              "#9c179e"
             ],
             [
              0.4444444444444444,
              "#bd3786"
             ],
             [
              0.5555555555555556,
              "#d8576b"
             ],
             [
              0.6666666666666666,
              "#ed7953"
             ],
             [
              0.7777777777777778,
              "#fb9f3a"
             ],
             [
              0.8888888888888888,
              "#fdca26"
             ],
             [
              1,
              "#f0f921"
             ]
            ],
            "type": "heatmap"
           }
          ],
          "heatmapgl": [
           {
            "colorbar": {
             "outlinewidth": 0,
             "ticks": ""
            },
            "colorscale": [
             [
              0,
              "#0d0887"
             ],
             [
              0.1111111111111111,
              "#46039f"
             ],
             [
              0.2222222222222222,
              "#7201a8"
             ],
             [
              0.3333333333333333,
              "#9c179e"
             ],
             [
              0.4444444444444444,
              "#bd3786"
             ],
             [
              0.5555555555555556,
              "#d8576b"
             ],
             [
              0.6666666666666666,
              "#ed7953"
             ],
             [
              0.7777777777777778,
              "#fb9f3a"
             ],
             [
              0.8888888888888888,
              "#fdca26"
             ],
             [
              1,
              "#f0f921"
             ]
            ],
            "type": "heatmapgl"
           }
          ],
          "histogram": [
           {
            "marker": {
             "pattern": {
              "fillmode": "overlay",
              "size": 10,
              "solidity": 0.2
             }
            },
            "type": "histogram"
           }
          ],
          "histogram2d": [
           {
            "colorbar": {
             "outlinewidth": 0,
             "ticks": ""
            },
            "colorscale": [
             [
              0,
              "#0d0887"
             ],
             [
              0.1111111111111111,
              "#46039f"
             ],
             [
              0.2222222222222222,
              "#7201a8"
             ],
             [
              0.3333333333333333,
              "#9c179e"
             ],
             [
              0.4444444444444444,
              "#bd3786"
             ],
             [
              0.5555555555555556,
              "#d8576b"
             ],
             [
              0.6666666666666666,
              "#ed7953"
             ],
             [
              0.7777777777777778,
              "#fb9f3a"
             ],
             [
              0.8888888888888888,
              "#fdca26"
             ],
             [
              1,
              "#f0f921"
             ]
            ],
            "type": "histogram2d"
           }
          ],
          "histogram2dcontour": [
           {
            "colorbar": {
             "outlinewidth": 0,
             "ticks": ""
            },
            "colorscale": [
             [
              0,
              "#0d0887"
             ],
             [
              0.1111111111111111,
              "#46039f"
             ],
             [
              0.2222222222222222,
              "#7201a8"
             ],
             [
              0.3333333333333333,
              "#9c179e"
             ],
             [
              0.4444444444444444,
              "#bd3786"
             ],
             [
              0.5555555555555556,
              "#d8576b"
             ],
             [
              0.6666666666666666,
              "#ed7953"
             ],
             [
              0.7777777777777778,
              "#fb9f3a"
             ],
             [
              0.8888888888888888,
              "#fdca26"
             ],
             [
              1,
              "#f0f921"
             ]
            ],
            "type": "histogram2dcontour"
           }
          ],
          "mesh3d": [
           {
            "colorbar": {
             "outlinewidth": 0,
             "ticks": ""
            },
            "type": "mesh3d"
           }
          ],
          "parcoords": [
           {
            "line": {
             "colorbar": {
              "outlinewidth": 0,
              "ticks": ""
             }
            },
            "type": "parcoords"
           }
          ],
          "pie": [
           {
            "automargin": true,
            "type": "pie"
           }
          ],
          "scatter": [
           {
            "fillpattern": {
             "fillmode": "overlay",
             "size": 10,
             "solidity": 0.2
            },
            "type": "scatter"
           }
          ],
          "scatter3d": [
           {
            "line": {
             "colorbar": {
              "outlinewidth": 0,
              "ticks": ""
             }
            },
            "marker": {
             "colorbar": {
              "outlinewidth": 0,
              "ticks": ""
             }
            },
            "type": "scatter3d"
           }
          ],
          "scattercarpet": [
           {
            "marker": {
             "colorbar": {
              "outlinewidth": 0,
              "ticks": ""
             }
            },
            "type": "scattercarpet"
           }
          ],
          "scattergeo": [
           {
            "marker": {
             "colorbar": {
              "outlinewidth": 0,
              "ticks": ""
             }
            },
            "type": "scattergeo"
           }
          ],
          "scattergl": [
           {
            "marker": {
             "colorbar": {
              "outlinewidth": 0,
              "ticks": ""
             }
            },
            "type": "scattergl"
           }
          ],
          "scattermapbox": [
           {
            "marker": {
             "colorbar": {
              "outlinewidth": 0,
              "ticks": ""
             }
            },
            "type": "scattermapbox"
           }
          ],
          "scatterpolar": [
           {
            "marker": {
             "colorbar": {
              "outlinewidth": 0,
              "ticks": ""
             }
            },
            "type": "scatterpolar"
           }
          ],
          "scatterpolargl": [
           {
            "marker": {
             "colorbar": {
              "outlinewidth": 0,
              "ticks": ""
             }
            },
            "type": "scatterpolargl"
           }
          ],
          "scatterternary": [
           {
            "marker": {
             "colorbar": {
              "outlinewidth": 0,
              "ticks": ""
             }
            },
            "type": "scatterternary"
           }
          ],
          "surface": [
           {
            "colorbar": {
             "outlinewidth": 0,
             "ticks": ""
            },
            "colorscale": [
             [
              0,
              "#0d0887"
             ],
             [
              0.1111111111111111,
              "#46039f"
             ],
             [
              0.2222222222222222,
              "#7201a8"
             ],
             [
              0.3333333333333333,
              "#9c179e"
             ],
             [
              0.4444444444444444,
              "#bd3786"
             ],
             [
              0.5555555555555556,
              "#d8576b"
             ],
             [
              0.6666666666666666,
              "#ed7953"
             ],
             [
              0.7777777777777778,
              "#fb9f3a"
             ],
             [
              0.8888888888888888,
              "#fdca26"
             ],
             [
              1,
              "#f0f921"
             ]
            ],
            "type": "surface"
           }
          ],
          "table": [
           {
            "cells": {
             "fill": {
              "color": "#EBF0F8"
             },
             "line": {
              "color": "white"
             }
            },
            "header": {
             "fill": {
              "color": "#C8D4E3"
             },
             "line": {
              "color": "white"
             }
            },
            "type": "table"
           }
          ]
         },
         "layout": {
          "annotationdefaults": {
           "arrowcolor": "#2a3f5f",
           "arrowhead": 0,
           "arrowwidth": 1
          },
          "autotypenumbers": "strict",
          "coloraxis": {
           "colorbar": {
            "outlinewidth": 0,
            "ticks": ""
           }
          },
          "colorscale": {
           "diverging": [
            [
             0,
             "#8e0152"
            ],
            [
             0.1,
             "#c51b7d"
            ],
            [
             0.2,
             "#de77ae"
            ],
            [
             0.3,
             "#f1b6da"
            ],
            [
             0.4,
             "#fde0ef"
            ],
            [
             0.5,
             "#f7f7f7"
            ],
            [
             0.6,
             "#e6f5d0"
            ],
            [
             0.7,
             "#b8e186"
            ],
            [
             0.8,
             "#7fbc41"
            ],
            [
             0.9,
             "#4d9221"
            ],
            [
             1,
             "#276419"
            ]
           ],
           "sequential": [
            [
             0,
             "#0d0887"
            ],
            [
             0.1111111111111111,
             "#46039f"
            ],
            [
             0.2222222222222222,
             "#7201a8"
            ],
            [
             0.3333333333333333,
             "#9c179e"
            ],
            [
             0.4444444444444444,
             "#bd3786"
            ],
            [
             0.5555555555555556,
             "#d8576b"
            ],
            [
             0.6666666666666666,
             "#ed7953"
            ],
            [
             0.7777777777777778,
             "#fb9f3a"
            ],
            [
             0.8888888888888888,
             "#fdca26"
            ],
            [
             1,
             "#f0f921"
            ]
           ],
           "sequentialminus": [
            [
             0,
             "#0d0887"
            ],
            [
             0.1111111111111111,
             "#46039f"
            ],
            [
             0.2222222222222222,
             "#7201a8"
            ],
            [
             0.3333333333333333,
             "#9c179e"
            ],
            [
             0.4444444444444444,
             "#bd3786"
            ],
            [
             0.5555555555555556,
             "#d8576b"
            ],
            [
             0.6666666666666666,
             "#ed7953"
            ],
            [
             0.7777777777777778,
             "#fb9f3a"
            ],
            [
             0.8888888888888888,
             "#fdca26"
            ],
            [
             1,
             "#f0f921"
            ]
           ]
          },
          "colorway": [
           "#636efa",
           "#EF553B",
           "#00cc96",
           "#ab63fa",
           "#FFA15A",
           "#19d3f3",
           "#FF6692",
           "#B6E880",
           "#FF97FF",
           "#FECB52"
          ],
          "font": {
           "color": "#2a3f5f"
          },
          "geo": {
           "bgcolor": "white",
           "lakecolor": "white",
           "landcolor": "#E5ECF6",
           "showlakes": true,
           "showland": true,
           "subunitcolor": "white"
          },
          "hoverlabel": {
           "align": "left"
          },
          "hovermode": "closest",
          "mapbox": {
           "style": "light"
          },
          "paper_bgcolor": "white",
          "plot_bgcolor": "#E5ECF6",
          "polar": {
           "angularaxis": {
            "gridcolor": "white",
            "linecolor": "white",
            "ticks": ""
           },
           "bgcolor": "#E5ECF6",
           "radialaxis": {
            "gridcolor": "white",
            "linecolor": "white",
            "ticks": ""
           }
          },
          "scene": {
           "xaxis": {
            "backgroundcolor": "#E5ECF6",
            "gridcolor": "white",
            "gridwidth": 2,
            "linecolor": "white",
            "showbackground": true,
            "ticks": "",
            "zerolinecolor": "white"
           },
           "yaxis": {
            "backgroundcolor": "#E5ECF6",
            "gridcolor": "white",
            "gridwidth": 2,
            "linecolor": "white",
            "showbackground": true,
            "ticks": "",
            "zerolinecolor": "white"
           },
           "zaxis": {
            "backgroundcolor": "#E5ECF6",
            "gridcolor": "white",
            "gridwidth": 2,
            "linecolor": "white",
            "showbackground": true,
            "ticks": "",
            "zerolinecolor": "white"
           }
          },
          "shapedefaults": {
           "line": {
            "color": "#2a3f5f"
           }
          },
          "ternary": {
           "aaxis": {
            "gridcolor": "white",
            "linecolor": "white",
            "ticks": ""
           },
           "baxis": {
            "gridcolor": "white",
            "linecolor": "white",
            "ticks": ""
           },
           "bgcolor": "#E5ECF6",
           "caxis": {
            "gridcolor": "white",
            "linecolor": "white",
            "ticks": ""
           }
          },
          "title": {
           "x": 0.05
          },
          "xaxis": {
           "automargin": true,
           "gridcolor": "white",
           "linecolor": "white",
           "ticks": "",
           "title": {
            "standoff": 15
           },
           "zerolinecolor": "white",
           "zerolinewidth": 2
          },
          "yaxis": {
           "automargin": true,
           "gridcolor": "white",
           "linecolor": "white",
           "ticks": "",
           "title": {
            "standoff": 15
           },
           "zerolinecolor": "white",
           "zerolinewidth": 2
          }
         }
        },
        "title": {
         "font": {
          "size": 20
         },
         "text": "Anzahl der gefangenen Fische pro Benutzer und Fischart"
        },
        "xaxis": {
         "anchor": "y",
         "categoryarray": [
          "Alex",
          "Dennis",
          "Marvin",
          "Valeri"
         ],
         "categoryorder": "array",
         "domain": [
          0,
          1
         ],
         "title": {
          "text": "Teilnehmer"
         }
        },
        "yaxis": {
         "anchor": "x",
         "domain": [
          0,
          1
         ],
         "title": {
          "text": "Fischart"
         }
        }
       }
      }
     },
     "metadata": {},
     "output_type": "display_data"
    }
   ],
   "source": [
    "\n",
    "# Beispiel-DatenFrame (ersetze dies durch deine tatsächlichen Daten)\n",
    "agg_df = merged_df.groupby(['name', 'type'], as_index=False)['points'].sum()\n",
    "\n",
    "# Definiere die Benutzerfarben\n",
    "user_colors = {\n",
    "    'Alex':   '#1f77b4',  # Blau\n",
    "    'Dennis': '#ff7f0e',  # Orange\n",
    "    'Marvin': '#2ca02c',  # Grün\n",
    "    'Valeri': '#d62728',  # Rot\n",
    "}\n",
    "\n",
    "# Erstelle das Bubble Chart mit Plotly\n",
    "fig = px.scatter(\n",
    "    agg_df,\n",
    "    x='name',\n",
    "    y='type',\n",
    "    size='points',\n",
    "    color='name',\n",
    "    color_discrete_map=user_colors,\n",
    "    title='Anzahl der gefangenen Fische pro Benutzer und Fischart',\n",
    "    labels={'name': 'Benutzer', 'type': 'Fischart', 'points': 'Anzahl der Punkte'},\n",
    "    hover_name='name',\n",
    "    hover_data=['type', 'points'],\n",
    ")\n",
    "\n",
    "# Passe das Layout an\n",
    "fig.update_layout(\n",
    "    xaxis_title='Teilnehmer',\n",
    "    yaxis_title='Fischart',\n",
    "    legend_title='Teilnehmer',\n",
    "    title_font_size=20\n",
    ")\n",
    "\n",
    "# Zeige das interaktive Diagramm an\n",
    "fig.show()"
   ]
  }
 ],
 "metadata": {
  "kernelspec": {
   "display_name": "datapipeline",
   "language": "python",
   "name": "python3"
  },
  "language_info": {
   "codemirror_mode": {
    "name": "ipython",
    "version": 3
   },
   "file_extension": ".py",
   "mimetype": "text/x-python",
   "name": "python",
   "nbconvert_exporter": "python",
   "pygments_lexer": "ipython3",
   "version": "3.12.8"
  }
 },
 "nbformat": 4,
 "nbformat_minor": 2
}
