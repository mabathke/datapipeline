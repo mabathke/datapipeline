{
 "cells": [
  {
   "cell_type": "markdown",
   "metadata": {},
   "source": [
    "# Gather FFC data\n",
    "I host a website in my own networkk with a raspberry and expose it via DynDNS from my router. The app is used for tracking our catches from our fishing trips and ranks the catch based on length & rarity with its own rating system. I want to gather all the data by ssh-ing into the raspberry and downloading the data. The data is stored in a sqlite database. I will download the .db file."
   ]
  },
  {
   "cell_type": "code",
   "execution_count": 54,
   "metadata": {},
   "outputs": [],
   "source": [
    "import paramiko\n",
    "import os\n",
    "import sqlite3\n",
    "import pandas as pd\n",
    "from io import BytesIO\n",
    "import tempfile"
   ]
  },
  {
   "cell_type": "code",
   "execution_count": 52,
   "metadata": {},
   "outputs": [],
   "source": [
    "def get_dataframe_from_raspberry(table_name):\n",
    "    \"\"\"\n",
    "    Connects to Raspberry Pi, downloads a SQLite file, queries a specific table, and returns the result as a DataFrame.\n",
    "    \n",
    "    Args:\n",
    "    - table_name (str): The name of the table to query.\n",
    "    \n",
    "    Returns:\n",
    "    - pd.DataFrame: A DataFrame containing the queried table's data.\n",
    "    \"\"\"\n",
    "    # Raspberry Pi SSH details (replace with your credentials)\n",
    "    RASPBERRY_PI_HOST = os.getenv(\"RASPBERRY_PI_HOST\")  # Raspberry Pi IP\n",
    "    RASPBERRY_PI_USER = os.getenv(\"RASPBERRY_PI_USER\")  # Raspberry Pi Username\n",
    "    RASPBERRY_PI_PASSWORD = os.getenv(\"RASPBERRY_PI_PASSWORD\")  # Raspberry Pi Password\n",
    "\n",
    "    # Remote path for the SQLite file on the Raspberry Pi\n",
    "    REMOTE_SQLITE_FILE_PATH = '/home/mabathke/ffc-app/var/db/todos.db'  # Path to the SQLite DB on the Raspberry Pi\n",
    "\n",
    "    # Create an SSH client\n",
    "    ssh = paramiko.SSHClient()\n",
    "    ssh.set_missing_host_key_policy(paramiko.AutoAddPolicy())\n",
    "\n",
    "    try:\n",
    "        print(f\"Connecting to {RASPBERRY_PI_HOST}...\")\n",
    "        ssh.connect(RASPBERRY_PI_HOST, username=RASPBERRY_PI_USER, password=RASPBERRY_PI_PASSWORD)\n",
    "\n",
    "        # Open an SFTP session\n",
    "        sftp = ssh.open_sftp()\n",
    "\n",
    "        # Download the SQLite file into an in-memory BytesIO object\n",
    "        sqlite_file_obj = BytesIO()\n",
    "        with sftp.open(REMOTE_SQLITE_FILE_PATH, 'rb') as sqlite_file:\n",
    "            sqlite_file_obj.write(sqlite_file.read())\n",
    "\n",
    "        print(\"SQLite file downloaded into memory.\")\n",
    "\n",
    "        # Close the SFTP connection\n",
    "        sftp.close()\n",
    "\n",
    "        # Write the in-memory SQLite file to a temporary file on disk\n",
    "        sqlite_file_obj.seek(0)  # Reset the file pointer to the beginning\n",
    "        with tempfile.NamedTemporaryFile(delete=False) as tmpfile:\n",
    "            tmpfile.write(sqlite_file_obj.read())\n",
    "            tmpfile_path = tmpfile.name\n",
    "\n",
    "        print(f\"SQLite file written to temporary file at {tmpfile_path}.\")\n",
    "\n",
    "        # Open the SQLite database from the temporary file\n",
    "        conn = sqlite3.connect(tmpfile_path)\n",
    "\n",
    "        # Query the table from the SQLite database\n",
    "        query = f\"SELECT * FROM {table_name}\"\n",
    "        df = pd.read_sql_query(query, conn)\n",
    "\n",
    "        print(f\"Queried table '{table_name}' from the SQLite database.\")\n",
    "\n",
    "        # Close the SQLite connection\n",
    "        conn.close()\n",
    "\n",
    "        # Clean up the temporary file\n",
    "        os.remove(tmpfile_path)\n",
    "\n",
    "        return df\n",
    "\n",
    "    except Exception as e:\n",
    "        print(f\"Error: {e}\")\n",
    "        return None\n",
    "\n",
    "    finally:\n",
    "        ssh.close()"
   ]
  },
  {
   "cell_type": "code",
   "execution_count": 53,
   "metadata": {},
   "outputs": [
    {
     "name": "stdout",
     "output_type": "stream",
     "text": [
      "Connecting to 192.168.178.37...\n",
      "SQLite file downloaded into memory.\n",
      "Error: embedded null character\n"
     ]
    }
   ],
   "source": [
    "# Example usage:\n",
    "table_name = 'scoreboard'  # Replace with the actual table name you want to query\n",
    "df = get_dataframe_from_raspberry(table_name)\n",
    "\n",
    "df"
   ]
  }
 ],
 "metadata": {
  "kernelspec": {
   "display_name": "datapipeline",
   "language": "python",
   "name": "python3"
  },
  "language_info": {
   "codemirror_mode": {
    "name": "ipython",
    "version": 3
   },
   "file_extension": ".py",
   "mimetype": "text/x-python",
   "name": "python",
   "nbconvert_exporter": "python",
   "pygments_lexer": "ipython3",
   "version": "3.12.7"
  }
 },
 "nbformat": 4,
 "nbformat_minor": 2
}
