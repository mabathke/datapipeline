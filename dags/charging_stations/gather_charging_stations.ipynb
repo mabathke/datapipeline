{
 "cells": [
  {
   "cell_type": "code",
   "execution_count": 26,
   "metadata": {},
   "outputs": [],
   "source": [
    "import pandas as pd\n",
    "import requests\n",
    "from io import StringIO"
   ]
  },
  {
   "cell_type": "code",
   "execution_count": 27,
   "metadata": {},
   "outputs": [],
   "source": [
    "# Constants\n",
    "CSV_URL = \"https://data.bundesnetzagentur.de/Bundesnetzagentur/SharedDocs/Downloads/DE/Sachgebiete/Energie/Unternehmen_Institutionen/E_Mobilitaet/Ladesaeulenregister.csv\"\n",
    "TABLE_NAME = \"ladesaeulenregister\""
   ]
  },
  {
   "cell_type": "code",
   "execution_count": 28,
   "metadata": {},
   "outputs": [],
   "source": [
    "def download_csv_data():\n",
    "    \"\"\"Download CSV data and return a pandas DataFrame\"\"\"\n",
    "    response = requests.get(CSV_URL)\n",
    "    if response.status_code == 200:\n",
    "        data = StringIO(response.text)\n",
    "        df = pd.read_csv(data, sep=\";\", skiprows=9, header=1)  # Adjusting the header row to 0 based on structure\n",
    "        #rename straße to strasse\n",
    "        df = df.rename(columns={\"Straße\": \"Strasse\"})\n",
    "        #rename all columns to lowercase\n",
    "        df.columns = df.columns.str.lower()\n",
    "        return df\n",
    "    else:\n",
    "        raise Exception(f\"Failed to download CSV: {response.status_code}\")"
   ]
  },
  {
   "cell_type": "code",
   "execution_count": 29,
   "metadata": {},
   "outputs": [
    {
     "name": "stderr",
     "output_type": "stream",
     "text": [
      "C:\\Users\\Admin\\AppData\\Local\\Temp\\ipykernel_18188\\2751041692.py:6: DtypeWarning: Columns (21,24) have mixed types. Specify dtype option on import or set low_memory=False.\n",
      "  df = pd.read_csv(data, sep=\";\", skiprows=9, header=1)  # Adjusting the header row to 0 based on structure\n"
     ]
    }
   ],
   "source": [
    "df = download_csv_data()"
   ]
  }
 ],
 "metadata": {
  "kernelspec": {
   "display_name": "base",
   "language": "python",
   "name": "python3"
  },
  "language_info": {
   "codemirror_mode": {
    "name": "ipython",
    "version": 3
   },
   "file_extension": ".py",
   "mimetype": "text/x-python",
   "name": "python",
   "nbconvert_exporter": "python",
   "pygments_lexer": "ipython3",
   "version": "3.12.4"
  }
 },
 "nbformat": 4,
 "nbformat_minor": 2
}
